{
 "cells": [
  {
   "cell_type": "markdown",
   "id": "cf3e8fe4",
   "metadata": {},
   "source": [
    "# Variables and Types"
   ]
  },
  {
   "cell_type": "markdown",
   "id": "e3562170",
   "metadata": {},
   "source": [
    "- Variable names in Python can contain **alphanumerical characters**:\n",
    "   - a-z, A-Z, 0-9 and some special characters such as _.   \n",
    "   \n",
    "   \n",
    "- Normal variable names must start with a letter.  \n",
    "\n",
    "\n",
    "- By convention, variable names start with a lower-case letter, and Class names start with a capital letter.  \n",
    "\n",
    "\n",
    "- There are a number of Python keywords that cannot be used as variable names. These keywords are:  \n",
    "\n",
    "\n",
    "and, as, assert, break, class, continue, def, del, elif, else, except,  exec, finally, for, from, global, if, import, in, is, lambda, not, or, pass, print, raise, return, try, while, with, yield"
   ]
  },
  {
   "cell_type": "markdown",
   "id": "677d760b",
   "metadata": {},
   "source": [
    "## Assignment"
   ]
  },
  {
   "cell_type": "markdown",
   "id": "7e7911ad",
   "metadata": {},
   "source": [
    "The assignment operator in Python is `=.` "
   ]
  },
  {
   "cell_type": "code",
   "execution_count": null,
   "id": "c1359729",
   "metadata": {},
   "outputs": [],
   "source": [
    "# variable assignments\n",
    "x = 1.0\n",
    "my_variable = 12.2"
   ]
  },
  {
   "cell_type": "markdown",
   "id": "4f2f7431",
   "metadata": {},
   "source": [
    "## Fundamental Types"
   ]
  },
  {
   "cell_type": "markdown",
   "id": "54606a76",
   "metadata": {},
   "source": [
    "### Integers"
   ]
  },
  {
   "cell_type": "code",
   "execution_count": null,
   "id": "06392f2a",
   "metadata": {},
   "outputs": [],
   "source": [
    "a = 10\n",
    "a"
   ]
  },
  {
   "cell_type": "code",
   "execution_count": null,
   "id": "9a24065b",
   "metadata": {},
   "outputs": [],
   "source": [
    "type(a)"
   ]
  },
  {
   "cell_type": "markdown",
   "id": "025662ce",
   "metadata": {},
   "source": [
    "### Float"
   ]
  },
  {
   "cell_type": "code",
   "execution_count": null,
   "id": "8a12b14f",
   "metadata": {},
   "outputs": [],
   "source": [
    "z = 10.7\n",
    "z"
   ]
  },
  {
   "cell_type": "code",
   "execution_count": null,
   "id": "48a39480",
   "metadata": {},
   "outputs": [],
   "source": [
    "type(z)"
   ]
  },
  {
   "cell_type": "markdown",
   "id": "6040fd33",
   "metadata": {},
   "source": [
    "### String"
   ]
  },
  {
   "cell_type": "code",
   "execution_count": null,
   "id": "f2b4c11a",
   "metadata": {},
   "outputs": [],
   "source": [
    "b = 'Hello World'\n",
    "b"
   ]
  },
  {
   "cell_type": "code",
   "execution_count": null,
   "id": "0c7f23e6",
   "metadata": {},
   "outputs": [],
   "source": [
    "type(b)"
   ]
  },
  {
   "cell_type": "markdown",
   "id": "eb825869",
   "metadata": {},
   "source": [
    "### Boolean"
   ]
  },
  {
   "cell_type": "code",
   "execution_count": null,
   "id": "09212fea",
   "metadata": {},
   "outputs": [],
   "source": [
    "b1 = True\n",
    "b2 = False"
   ]
  },
  {
   "cell_type": "code",
   "execution_count": null,
   "id": "c87880a6",
   "metadata": {},
   "outputs": [],
   "source": [
    "type(b1)"
   ]
  },
  {
   "cell_type": "markdown",
   "id": "af26a6da",
   "metadata": {},
   "source": [
    "### Complex numbers"
   ]
  },
  {
   "cell_type": "code",
   "execution_count": null,
   "id": "ee741492",
   "metadata": {},
   "outputs": [],
   "source": [
    "x = 1.0 - 1.0j"
   ]
  },
  {
   "cell_type": "code",
   "execution_count": null,
   "id": "22c3dfad",
   "metadata": {},
   "outputs": [],
   "source": [
    "type(x)"
   ]
  },
  {
   "cell_type": "code",
   "execution_count": null,
   "id": "185da04b",
   "metadata": {},
   "outputs": [],
   "source": [
    "print(x.real, x.imag)"
   ]
  },
  {
   "cell_type": "markdown",
   "id": "20d6fbe5",
   "metadata": {},
   "source": [
    "## Operators and comparisons"
   ]
  },
  {
   "cell_type": "code",
   "execution_count": null,
   "id": "110579ba",
   "metadata": {},
   "outputs": [],
   "source": [
    "1 + 2"
   ]
  },
  {
   "cell_type": "code",
   "execution_count": null,
   "id": "1d1cb16f",
   "metadata": {},
   "outputs": [],
   "source": [
    "1 - 2"
   ]
  },
  {
   "cell_type": "code",
   "execution_count": null,
   "id": "28120186",
   "metadata": {},
   "outputs": [],
   "source": [
    "1 * 2"
   ]
  },
  {
   "cell_type": "code",
   "execution_count": null,
   "id": "d6d99daf",
   "metadata": {},
   "outputs": [],
   "source": [
    "1 / 2"
   ]
  },
  {
   "cell_type": "code",
   "execution_count": null,
   "id": "a7339760",
   "metadata": {},
   "outputs": [],
   "source": [
    "# The power operators in python isn't ^, but **\n",
    "2 ** 2"
   ]
  },
  {
   "cell_type": "markdown",
   "id": "4227d7b3",
   "metadata": {},
   "source": [
    "### Comparison operators"
   ]
  },
  {
   "cell_type": "code",
   "execution_count": null,
   "id": "ca922a7d",
   "metadata": {},
   "outputs": [],
   "source": [
    "2 > 1"
   ]
  },
  {
   "cell_type": "code",
   "execution_count": null,
   "id": "47830239",
   "metadata": {},
   "outputs": [],
   "source": [
    "2 < 1"
   ]
  },
  {
   "cell_type": "code",
   "execution_count": null,
   "id": "681f89f9",
   "metadata": {},
   "outputs": [],
   "source": [
    "2 > 2, 2 < 2"
   ]
  },
  {
   "cell_type": "code",
   "execution_count": null,
   "id": "ef7ba7a2",
   "metadata": {},
   "outputs": [],
   "source": [
    " # equality\n",
    "[1,2] == [1,2]"
   ]
  },
  {
   "cell_type": "code",
   "execution_count": null,
   "id": "be6a80a9",
   "metadata": {},
   "outputs": [],
   "source": [
    "# objects identical?\n",
    "l1 = l2 = [1,2]\n",
    "\n",
    "l1 is l2"
   ]
  },
  {
   "cell_type": "markdown",
   "id": "088ea9b5",
   "metadata": {},
   "source": [
    "## Strings, List and Dictionaries"
   ]
  },
  {
   "cell_type": "markdown",
   "id": "2af8fc84",
   "metadata": {},
   "source": [
    "### Strings"
   ]
  },
  {
   "cell_type": "markdown",
   "id": "b0bb2fec",
   "metadata": {},
   "source": [
    "**Strings** are the variable type that is used for storing **text messages**."
   ]
  },
  {
   "cell_type": "code",
   "execution_count": null,
   "id": "a616cf21",
   "metadata": {},
   "outputs": [],
   "source": [
    "s = \"Hello world\"\n",
    "type(s)"
   ]
  },
  {
   "cell_type": "code",
   "execution_count": null,
   "id": "0ea5d17c",
   "metadata": {},
   "outputs": [],
   "source": [
    "# length of the string: the number of characters\n",
    "len(s)"
   ]
  },
  {
   "cell_type": "code",
   "execution_count": null,
   "id": "f6a53016",
   "metadata": {},
   "outputs": [],
   "source": [
    "# replace a substring in a string with something else\n",
    "s2 = s.replace(\"world\", \"test\")\n",
    "print(s2)"
   ]
  },
  {
   "cell_type": "code",
   "execution_count": null,
   "id": "9243dfd7",
   "metadata": {},
   "outputs": [],
   "source": [
    "# You can index a character in a string using []:\n",
    "\n",
    "s[0]"
   ]
  },
  {
   "cell_type": "code",
   "execution_count": null,
   "id": "0a1117d9",
   "metadata": {},
   "outputs": [],
   "source": [
    "# You can extract a part of a string using the syntax [start:stop]\n",
    "s[0:5]"
   ]
  },
  {
   "cell_type": "code",
   "execution_count": null,
   "id": "c2cb6f61",
   "metadata": {},
   "outputs": [],
   "source": [
    "s[4:5]"
   ]
  },
  {
   "cell_type": "code",
   "execution_count": null,
   "id": "deeaf21f",
   "metadata": {},
   "outputs": [],
   "source": [
    "s[:5]"
   ]
  },
  {
   "cell_type": "code",
   "execution_count": null,
   "id": "29ff80b0",
   "metadata": {},
   "outputs": [],
   "source": [
    "s[6:]"
   ]
  },
  {
   "cell_type": "code",
   "execution_count": null,
   "id": "aa47f692",
   "metadata": {},
   "outputs": [],
   "source": [
    "s[:]"
   ]
  },
  {
   "cell_type": "code",
   "execution_count": null,
   "id": "1f958f1d",
   "metadata": {},
   "outputs": [],
   "source": [
    "# You can also define the step size using the syntax [start:end:step]\n",
    "s[::1]"
   ]
  },
  {
   "cell_type": "code",
   "execution_count": null,
   "id": "3f29ba5e",
   "metadata": {},
   "outputs": [],
   "source": [
    "s[::2]"
   ]
  },
  {
   "cell_type": "markdown",
   "id": "280e96e2",
   "metadata": {},
   "source": [
    "### String Formatting "
   ]
  },
  {
   "cell_type": "code",
   "execution_count": null,
   "id": "c383484d",
   "metadata": {},
   "outputs": [],
   "source": [
    "# The print statement concatenates strings with a space\n",
    "print(\"str1\", \"str2\", \"str3\")  "
   ]
  },
  {
   "cell_type": "code",
   "execution_count": null,
   "id": "08c404a9",
   "metadata": {},
   "outputs": [],
   "source": [
    " # strings added with + are concatenated without space\n",
    "print(\"str1\" + \"str2\" + \"str3\")"
   ]
  },
  {
   "cell_type": "code",
   "execution_count": null,
   "id": "ad9fd2e2",
   "metadata": {},
   "outputs": [],
   "source": [
    "# we can use C-style string formatting\n",
    "print(\"value = %f\" % 1.0)       "
   ]
  },
  {
   "cell_type": "code",
   "execution_count": null,
   "id": "dc33e9e3",
   "metadata": {},
   "outputs": [],
   "source": [
    "# this formatting creates a string\n",
    "s2 = \"value1 = %.3f. value2 = %d\" % (3.1415, 1.5)\n",
    "\n",
    "print(s2)"
   ]
  },
  {
   "cell_type": "markdown",
   "id": "dd64bd5f",
   "metadata": {},
   "source": [
    "## Lists"
   ]
  },
  {
   "cell_type": "markdown",
   "id": "bf5b5cb8",
   "metadata": {},
   "source": [
    "- Syntax for creating lists in Python is [...]  \n",
    "\n",
    "\n",
    "- To create list put coma separated values in square brackets. "
   ]
  },
  {
   "cell_type": "code",
   "execution_count": null,
   "id": "9b4507e4",
   "metadata": {},
   "outputs": [],
   "source": [
    "l = [1,2,3,4,5]\n",
    "l"
   ]
  },
  {
   "cell_type": "markdown",
   "id": "39e67c68",
   "metadata": {},
   "source": [
    "- Values in list can be any type"
   ]
  },
  {
   "cell_type": "code",
   "execution_count": null,
   "id": "588bd84d",
   "metadata": {},
   "outputs": [],
   "source": [
    "l = ['one', 'two', 'three', 'four', 'five']\n",
    "l"
   ]
  },
  {
   "cell_type": "code",
   "execution_count": null,
   "id": "eb0cc64d",
   "metadata": {},
   "outputs": [],
   "source": [
    "l = ['one', 2, 'three', 4.0, 3+2]\n",
    "l"
   ]
  },
  {
   "cell_type": "code",
   "execution_count": null,
   "id": "af7d1196",
   "metadata": {},
   "outputs": [],
   "source": [
    "l = ['one', 2, 'three', [1,2,3,4,5], 3+2]\n",
    "l"
   ]
  },
  {
   "cell_type": "markdown",
   "id": "297b75d3",
   "metadata": {},
   "source": [
    "### Access list values by index"
   ]
  },
  {
   "cell_type": "markdown",
   "id": "647f08f0",
   "metadata": {},
   "source": [
    "- indexing starts with zero"
   ]
  },
  {
   "cell_type": "code",
   "execution_count": null,
   "id": "e01bbe85",
   "metadata": {},
   "outputs": [],
   "source": [
    "l[0]"
   ]
  },
  {
   "cell_type": "code",
   "execution_count": null,
   "id": "9e4c8ee9",
   "metadata": {},
   "outputs": [],
   "source": [
    "l[1]"
   ]
  },
  {
   "cell_type": "markdown",
   "id": "9038ceca",
   "metadata": {},
   "source": [
    "Let's have a look at the 4th element of our list"
   ]
  },
  {
   "cell_type": "code",
   "execution_count": null,
   "id": "fd799d06",
   "metadata": {},
   "outputs": [],
   "source": [
    "l[3]"
   ]
  },
  {
   "cell_type": "markdown",
   "id": "c550c0a2",
   "metadata": {},
   "source": [
    "You have access to a list within a list"
   ]
  },
  {
   "cell_type": "code",
   "execution_count": null,
   "id": "fd391c62",
   "metadata": {},
   "outputs": [],
   "source": [
    "l[3][4]"
   ]
  },
  {
   "cell_type": "markdown",
   "id": "a210bbbe",
   "metadata": {},
   "source": [
    "Acces multiple elements"
   ]
  },
  {
   "cell_type": "code",
   "execution_count": null,
   "id": "08ab70e6",
   "metadata": {},
   "outputs": [],
   "source": [
    "l[1:3]"
   ]
  },
  {
   "cell_type": "code",
   "execution_count": null,
   "id": "67b974ae",
   "metadata": {},
   "outputs": [],
   "source": [
    "start = 10\n",
    "stop = 30\n",
    "step = 2\n",
    "list(range(start, stop, step))"
   ]
  },
  {
   "cell_type": "code",
   "execution_count": null,
   "id": "8b06b942",
   "metadata": {},
   "outputs": [],
   "source": [
    "list(range(-10, 10))"
   ]
  },
  {
   "cell_type": "code",
   "execution_count": null,
   "id": "e2126aee",
   "metadata": {},
   "outputs": [],
   "source": [
    "s"
   ]
  },
  {
   "cell_type": "code",
   "execution_count": null,
   "id": "00a95e92",
   "metadata": {},
   "outputs": [],
   "source": [
    "# convert a string to a list by type casting:\n",
    "s2 = list(s)\n",
    "s2"
   ]
  },
  {
   "cell_type": "code",
   "execution_count": null,
   "id": "55f9f932",
   "metadata": {},
   "outputs": [],
   "source": [
    "# sorting lists\n",
    "s2.sort()\n",
    "\n",
    "print(s2)"
   ]
  },
  {
   "cell_type": "markdown",
   "id": "30a5a082",
   "metadata": {},
   "source": [
    "### Adding, Inserting, Modifying, and Removing Elements"
   ]
  },
  {
   "cell_type": "code",
   "execution_count": null,
   "id": "76b25b26",
   "metadata": {},
   "outputs": [],
   "source": [
    "# create a new empty list\n",
    "l = []\n",
    "l"
   ]
  },
  {
   "cell_type": "code",
   "execution_count": null,
   "id": "743c1026",
   "metadata": {},
   "outputs": [],
   "source": [
    "# add an elements using `append`\n",
    "l.append(\"A\")\n",
    "l"
   ]
  },
  {
   "cell_type": "code",
   "execution_count": null,
   "id": "fe84a193",
   "metadata": {},
   "outputs": [],
   "source": [
    "l.append(\"d\")\n",
    "l"
   ]
  },
  {
   "cell_type": "code",
   "execution_count": null,
   "id": "5af2dc25",
   "metadata": {},
   "outputs": [],
   "source": [
    "l.append(\"d\")\n",
    "l"
   ]
  },
  {
   "cell_type": "code",
   "execution_count": null,
   "id": "68129684",
   "metadata": {},
   "outputs": [],
   "source": [
    "l[1] = \"p\"\n",
    "l[2] = \"p\"\n",
    "\n",
    "l"
   ]
  },
  {
   "cell_type": "code",
   "execution_count": null,
   "id": "4d7f3843",
   "metadata": {},
   "outputs": [],
   "source": [
    "l[1:3] = [\"d\", \"d\"]\n",
    "l"
   ]
  },
  {
   "cell_type": "markdown",
   "id": "408c8424",
   "metadata": {},
   "source": [
    "### Insert an element at an specific index using insert"
   ]
  },
  {
   "cell_type": "code",
   "execution_count": null,
   "id": "cf72c4fb",
   "metadata": {},
   "outputs": [],
   "source": [
    "l.insert(0, \"i\")\n",
    "l.insert(1, \"n\")\n",
    "l.insert(2, \"s\")\n",
    "l.insert(3, \"e\")\n",
    "l.insert(4, \"r\")\n",
    "l.insert(5, \"t\")"
   ]
  },
  {
   "cell_type": "code",
   "execution_count": null,
   "id": "87b3f125",
   "metadata": {},
   "outputs": [],
   "source": [
    "l"
   ]
  },
  {
   "cell_type": "markdown",
   "id": "9916363d",
   "metadata": {},
   "source": [
    "### Remove first element with specific value using `remove`"
   ]
  },
  {
   "cell_type": "code",
   "execution_count": null,
   "id": "a8c87d3c",
   "metadata": {},
   "outputs": [],
   "source": [
    "l.remove(\"A\")\n",
    "\n",
    "print(l)"
   ]
  },
  {
   "cell_type": "markdown",
   "id": "e0c2de06",
   "metadata": {},
   "source": [
    "### Remove an element at a specific location using `del`"
   ]
  },
  {
   "cell_type": "code",
   "execution_count": null,
   "id": "2cab7ec4",
   "metadata": {},
   "outputs": [],
   "source": [
    "del l[7]\n",
    "del l[6]\n",
    "\n",
    "print(l)"
   ]
  },
  {
   "cell_type": "markdown",
   "id": "d1ee0663",
   "metadata": {},
   "source": [
    "### More help on `list`"
   ]
  },
  {
   "cell_type": "code",
   "execution_count": null,
   "id": "b989d10d",
   "metadata": {
    "scrolled": false
   },
   "outputs": [],
   "source": [
    "help(list)"
   ]
  },
  {
   "cell_type": "markdown",
   "id": "d6f97d98",
   "metadata": {},
   "source": [
    "## Tuples"
   ]
  },
  {
   "cell_type": "markdown",
   "id": "adf59a42",
   "metadata": {},
   "source": [
    "- `Tuples` are like lists, except that they cannot be modified once created   \n",
    "\n",
    "\n",
    "-  Tuples are created using the syntax (..., ..., ...), or even ..., ...:"
   ]
  },
  {
   "cell_type": "code",
   "execution_count": null,
   "id": "20e04b71",
   "metadata": {},
   "outputs": [],
   "source": [
    "point = (10, 20)\n",
    "\n",
    "print(point, type(point))"
   ]
  },
  {
   "cell_type": "code",
   "execution_count": null,
   "id": "9eea9f1c",
   "metadata": {},
   "outputs": [],
   "source": [
    "point = 10, 20\n",
    "\n",
    "print(point, type(point))"
   ]
  },
  {
   "cell_type": "markdown",
   "id": "46d05e1e",
   "metadata": {},
   "source": [
    "## Dictionaries"
   ]
  },
  {
   "cell_type": "markdown",
   "id": "7362c325",
   "metadata": {},
   "source": [
    "- Dictionaries are also like lists, except that each element is a key-value pair. \n",
    "\n",
    "\n",
    "- The syntax for dictionaries is {key1 : value1, ...}:\n"
   ]
  },
  {
   "cell_type": "code",
   "execution_count": null,
   "id": "719ce62a",
   "metadata": {},
   "outputs": [],
   "source": [
    "params = {\"parameter1\" : 1.0, \"parameter2\" : 2.0, \"parameter3\" : 3.0}"
   ]
  },
  {
   "cell_type": "code",
   "execution_count": null,
   "id": "acc54de3",
   "metadata": {},
   "outputs": [],
   "source": [
    "params"
   ]
  },
  {
   "cell_type": "code",
   "execution_count": null,
   "id": "8e2db2b5",
   "metadata": {},
   "outputs": [],
   "source": [
    "print(type(params))"
   ]
  },
  {
   "cell_type": "code",
   "execution_count": null,
   "id": "bb09b541",
   "metadata": {},
   "outputs": [],
   "source": [
    "print(\"parameter1 = \" + str(params[\"parameter1\"]))\n",
    "print(\"parameter2 = \" + str(params[\"parameter2\"]))\n",
    "print(\"parameter3 = \" + str(params[\"parameter3\"]))"
   ]
  },
  {
   "cell_type": "code",
   "execution_count": null,
   "id": "344ca7e6",
   "metadata": {},
   "outputs": [],
   "source": [
    "params[\"parameter1\"] = \"A\"\n",
    "params[\"parameter2\"] = \"B\"\n",
    "\n",
    "# add a new entry\n",
    "params[\"parameter4\"] = \"D\"\n",
    "\n",
    "print(\"parameter1 = \" + str(params[\"parameter1\"]))\n",
    "print(\"parameter2 = \" + str(params[\"parameter2\"]))\n",
    "print(\"parameter3 = \" + str(params[\"parameter3\"]))"
   ]
  },
  {
   "cell_type": "markdown",
   "id": "071ae189",
   "metadata": {},
   "source": [
    "## Modules"
   ]
  },
  {
   "cell_type": "markdown",
   "id": "f3b02a3b",
   "metadata": {},
   "source": [
    "- Most of the functionality in Python is provided by **modules**\n",
    "- A module can be imported using the **import** statement\n",
    "- To import the module **math**, which contains many standard mathematical functions:"
   ]
  },
  {
   "cell_type": "code",
   "execution_count": null,
   "id": "232307f6",
   "metadata": {},
   "outputs": [],
   "source": [
    "import math"
   ]
  },
  {
   "cell_type": "code",
   "execution_count": null,
   "id": "b7c5ce9d",
   "metadata": {},
   "outputs": [],
   "source": [
    "x = math.cos(2 * math.pi)\n",
    "x"
   ]
  },
  {
   "cell_type": "markdown",
   "id": "8f5612cd",
   "metadata": {},
   "source": [
    "You can import all functions and variables in a module so that you don't need to use the prefix \"math.\" every time you use the math module:"
   ]
  },
  {
   "cell_type": "code",
   "execution_count": null,
   "id": "09911b36",
   "metadata": {},
   "outputs": [],
   "source": [
    "from math import *"
   ]
  },
  {
   "cell_type": "code",
   "execution_count": null,
   "id": "17c652a3",
   "metadata": {},
   "outputs": [],
   "source": [
    "x = cos(2 * pi)\n",
    "x"
   ]
  },
  {
   "cell_type": "markdown",
   "id": "6309302d",
   "metadata": {},
   "source": [
    "You can import only a few selected functions from a module by explicitly listing which ones we want to import:"
   ]
  },
  {
   "cell_type": "code",
   "execution_count": null,
   "id": "8d594b69",
   "metadata": {},
   "outputs": [],
   "source": [
    "from math import cos, pi"
   ]
  },
  {
   "cell_type": "code",
   "execution_count": null,
   "id": "a7cc9537",
   "metadata": {},
   "outputs": [],
   "source": [
    "x = cos(2 * pi)\n",
    "x"
   ]
  },
  {
   "cell_type": "markdown",
   "id": "6d336554",
   "metadata": {},
   "source": [
    "### Get help on the Module "
   ]
  },
  {
   "cell_type": "code",
   "execution_count": null,
   "id": "8716954d",
   "metadata": {},
   "outputs": [],
   "source": [
    "# print(dir(math))"
   ]
  },
  {
   "cell_type": "code",
   "execution_count": null,
   "id": "3be0db57",
   "metadata": {},
   "outputs": [],
   "source": [
    "help(math)"
   ]
  },
  {
   "cell_type": "code",
   "execution_count": null,
   "id": "0f85507b",
   "metadata": {},
   "outputs": [],
   "source": [
    "help(math.log)"
   ]
  },
  {
   "cell_type": "code",
   "execution_count": null,
   "id": "4c279388",
   "metadata": {},
   "outputs": [],
   "source": [
    "log(10)"
   ]
  },
  {
   "cell_type": "code",
   "execution_count": null,
   "id": "83707b7f",
   "metadata": {},
   "outputs": [],
   "source": [
    "math?"
   ]
  },
  {
   "cell_type": "markdown",
   "id": "1b4647b5",
   "metadata": {},
   "source": [
    "## Accessing the underlying operating system"
   ]
  },
  {
   "cell_type": "markdown",
   "id": "0942413d",
   "metadata": {},
   "source": [
    "You can access system functions by typing exclamation mark (!)"
   ]
  },
  {
   "cell_type": "code",
   "execution_count": null,
   "id": "925a0d51",
   "metadata": {},
   "outputs": [],
   "source": [
    "!pwd"
   ]
  },
  {
   "cell_type": "code",
   "execution_count": null,
   "id": "be2aca32",
   "metadata": {},
   "outputs": [],
   "source": [
    "!ls"
   ]
  }
 ],
 "metadata": {
  "hide_input": false,
  "kernelspec": {
   "display_name": "Python 3 (ipykernel)",
   "language": "python",
   "name": "python3"
  },
  "language_info": {
   "codemirror_mode": {
    "name": "ipython",
    "version": 3
   },
   "file_extension": ".py",
   "mimetype": "text/x-python",
   "name": "python",
   "nbconvert_exporter": "python",
   "pygments_lexer": "ipython3",
   "version": "3.10.6"
  },
  "latex_envs": {
   "LaTeX_envs_menu_present": true,
   "autoclose": false,
   "autocomplete": true,
   "bibliofile": "biblio.bib",
   "cite_by": "apalike",
   "current_citInitial": 1,
   "eqLabelWithNumbers": true,
   "eqNumInitial": 1,
   "hotkeys": {
    "equation": "Ctrl-E",
    "itemize": "Ctrl-I"
   },
   "labels_anchors": false,
   "latex_user_defs": false,
   "report_style_numbering": false,
   "user_envs_cfg": false
  },
  "toc": {
   "base_numbering": 1,
   "nav_menu": {},
   "number_sections": true,
   "sideBar": true,
   "skip_h1_title": false,
   "title_cell": "Table of Contents",
   "title_sidebar": "Contents",
   "toc_cell": false,
   "toc_position": {},
   "toc_section_display": true,
   "toc_window_display": true
  },
  "varInspector": {
   "cols": {
    "lenName": 16,
    "lenType": 16,
    "lenVar": 40
   },
   "kernels_config": {
    "python": {
     "delete_cmd_postfix": "",
     "delete_cmd_prefix": "del ",
     "library": "var_list.py",
     "varRefreshCmd": "print(var_dic_list())"
    },
    "r": {
     "delete_cmd_postfix": ") ",
     "delete_cmd_prefix": "rm(",
     "library": "var_list.r",
     "varRefreshCmd": "cat(var_dic_list()) "
    }
   },
   "types_to_exclude": [
    "module",
    "function",
    "builtin_function_or_method",
    "instance",
    "_Feature"
   ],
   "window_display": false
  }
 },
 "nbformat": 4,
 "nbformat_minor": 5
}
