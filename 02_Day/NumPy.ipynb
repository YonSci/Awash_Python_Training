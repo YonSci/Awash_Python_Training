{
 "cells": [
  {
   "cell_type": "markdown",
   "id": "be493b02",
   "metadata": {
    "toc": true
   },
   "source": [
    "<h1>Table of Contents<span class=\"tocSkip\"></span></h1>\n",
    "<div class=\"toc\"><ul class=\"toc-item\"><li><span><a href=\"#NumPy:-Creating-and-Manipulating-Numerical-Data\" data-toc-modified-id=\"NumPy:-Creating-and-Manipulating-Numerical-Data-1\"><span class=\"toc-item-num\">1&nbsp;&nbsp;</span>NumPy: Creating and Manipulating Numerical Data</a></span><ul class=\"toc-item\"><li><span><a href=\"#Numpy-Importing-Conventions\" data-toc-modified-id=\"Numpy-Importing-Conventions-1.1\"><span class=\"toc-item-num\">1.1&nbsp;&nbsp;</span>Numpy Importing Conventions</a></span></li><li><span><a href=\"#Creating-Arrays\" data-toc-modified-id=\"Creating-Arrays-1.2\"><span class=\"toc-item-num\">1.2&nbsp;&nbsp;</span>Creating Arrays</a></span><ul class=\"toc-item\"><li><span><a href=\"#Manual-construction-of-arrays\" data-toc-modified-id=\"Manual-construction-of-arrays-1.2.1\"><span class=\"toc-item-num\">1.2.1&nbsp;&nbsp;</span>Manual construction of arrays</a></span></li><li><span><a href=\"#2-Dimensional-Arrays\" data-toc-modified-id=\"2-Dimensional-Arrays-1.2.2\"><span class=\"toc-item-num\">1.2.2&nbsp;&nbsp;</span>2-Dimensional Arrays</a></span></li><li><span><a href=\"#3-Dimensional-Arrays\" data-toc-modified-id=\"3-Dimensional-Arrays-1.2.3\"><span class=\"toc-item-num\">1.2.3&nbsp;&nbsp;</span>3-Dimensional Arrays</a></span></li></ul></li><li><span><a href=\"#Functions-for-creating-arrays\" data-toc-modified-id=\"Functions-for-creating-arrays-1.3\"><span class=\"toc-item-num\">1.3&nbsp;&nbsp;</span>Functions for creating arrays</a></span><ul class=\"toc-item\"><li><span><a href=\"#Evenly-spaced-arrays:\" data-toc-modified-id=\"Evenly-spaced-arrays:-1.3.1\"><span class=\"toc-item-num\">1.3.1&nbsp;&nbsp;</span>Evenly spaced arrays:</a></span></li><li><span><a href=\"#Common-Arrays\" data-toc-modified-id=\"Common-Arrays-1.3.2\"><span class=\"toc-item-num\">1.3.2&nbsp;&nbsp;</span>Common Arrays</a></span></li><li><span><a href=\"#Ones\" data-toc-modified-id=\"Ones-1.3.3\"><span class=\"toc-item-num\">1.3.3&nbsp;&nbsp;</span>Ones</a></span></li><li><span><a href=\"#Zeros\" data-toc-modified-id=\"Zeros-1.3.4\"><span class=\"toc-item-num\">1.3.4&nbsp;&nbsp;</span>Zeros</a></span></li><li><span><a href=\"#Diagonal-Matrix\" data-toc-modified-id=\"Diagonal-Matrix-1.3.5\"><span class=\"toc-item-num\">1.3.5&nbsp;&nbsp;</span>Diagonal Matrix</a></span></li></ul></li><li><span><a href=\"#Random-numbers\" data-toc-modified-id=\"Random-numbers-1.4\"><span class=\"toc-item-num\">1.4&nbsp;&nbsp;</span>Random numbers</a></span><ul class=\"toc-item\"><li><span><a href=\"#Uniform\" data-toc-modified-id=\"Uniform-1.4.1\"><span class=\"toc-item-num\">1.4.1&nbsp;&nbsp;</span>Uniform</a></span></li><li><span><a href=\"#Gaussian\" data-toc-modified-id=\"Gaussian-1.4.2\"><span class=\"toc-item-num\">1.4.2&nbsp;&nbsp;</span>Gaussian</a></span></li></ul></li><li><span><a href=\"#Basic-Data-Types\" data-toc-modified-id=\"Basic-Data-Types-1.5\"><span class=\"toc-item-num\">1.5&nbsp;&nbsp;</span>Basic Data Types</a></span><ul class=\"toc-item\"><li><span><a href=\"#Intgers\" data-toc-modified-id=\"Intgers-1.5.1\"><span class=\"toc-item-num\">1.5.1&nbsp;&nbsp;</span>Intgers</a></span></li><li><span><a href=\"#Floats\" data-toc-modified-id=\"Floats-1.5.2\"><span class=\"toc-item-num\">1.5.2&nbsp;&nbsp;</span>Floats</a></span></li><li><span><a href=\"#Explicitly-specify-the-data-type\" data-toc-modified-id=\"Explicitly-specify-the-data-type-1.5.3\"><span class=\"toc-item-num\">1.5.3&nbsp;&nbsp;</span>Explicitly specify the data-type</a></span></li><li><span><a href=\"#Other-Data-Types\" data-toc-modified-id=\"Other-Data-Types-1.5.4\"><span class=\"toc-item-num\">1.5.4&nbsp;&nbsp;</span>Other Data Types</a></span></li><li><span><a href=\"#Complex-Number\" data-toc-modified-id=\"Complex-Number-1.5.5\"><span class=\"toc-item-num\">1.5.5&nbsp;&nbsp;</span>Complex Number</a></span></li><li><span><a href=\"#Boolean-Number\" data-toc-modified-id=\"Boolean-Number-1.5.6\"><span class=\"toc-item-num\">1.5.6&nbsp;&nbsp;</span>Boolean Number</a></span></li><li><span><a href=\"#String\" data-toc-modified-id=\"String-1.5.7\"><span class=\"toc-item-num\">1.5.7&nbsp;&nbsp;</span>String</a></span></li></ul></li><li><span><a href=\"#Indexing-and-Slicing\" data-toc-modified-id=\"Indexing-and-Slicing-1.6\"><span class=\"toc-item-num\">1.6&nbsp;&nbsp;</span>Indexing and Slicing</a></span><ul class=\"toc-item\"><li><span><a href=\"#Reversing-a-sequence\" data-toc-modified-id=\"Reversing-a-sequence-1.6.1\"><span class=\"toc-item-num\">1.6.1&nbsp;&nbsp;</span>Reversing a sequence</a></span></li><li><span><a href=\"#Indexing-Multidimensional-Arrays\" data-toc-modified-id=\"Indexing-Multidimensional-Arrays-1.6.2\"><span class=\"toc-item-num\">1.6.2&nbsp;&nbsp;</span>Indexing Multidimensional Arrays</a></span></li><li><span><a href=\"#Indexing-by-Row\" data-toc-modified-id=\"Indexing-by-Row-1.6.3\"><span class=\"toc-item-num\">1.6.3&nbsp;&nbsp;</span>Indexing by Row</a></span></li><li><span><a href=\"#Indexing-by-Column\" data-toc-modified-id=\"Indexing-by-Column-1.6.4\"><span class=\"toc-item-num\">1.6.4&nbsp;&nbsp;</span>Indexing by Column</a></span></li><li><span><a href=\"#Slicing\" data-toc-modified-id=\"Slicing-1.6.5\"><span class=\"toc-item-num\">1.6.5&nbsp;&nbsp;</span>Slicing</a></span></li><li><span><a href=\"#Combine-Assignment-and-Slicing\" data-toc-modified-id=\"Combine-Assignment-and-Slicing-1.6.6\"><span class=\"toc-item-num\">1.6.6&nbsp;&nbsp;</span>Combine Assignment and Slicing</a></span></li></ul></li><li><span><a href=\"#Fancy-Indexing\" data-toc-modified-id=\"Fancy-Indexing-1.7\"><span class=\"toc-item-num\">1.7&nbsp;&nbsp;</span>Fancy Indexing</a></span><ul class=\"toc-item\"><li><span><a href=\"#Using-Boolean-Masks\" data-toc-modified-id=\"Using-Boolean-Masks-1.7.1\"><span class=\"toc-item-num\">1.7.1&nbsp;&nbsp;</span>Using Boolean Masks</a></span></li><li><span><a href=\"#Indexing-with-an-array-of-integers\" data-toc-modified-id=\"Indexing-with-an-array-of-integers-1.7.2\"><span class=\"toc-item-num\">1.7.2&nbsp;&nbsp;</span>Indexing with an array of integers</a></span></li></ul></li><li><span><a href=\"#Numpy-Help\" data-toc-modified-id=\"Numpy-Help-1.8\"><span class=\"toc-item-num\">1.8&nbsp;&nbsp;</span>Numpy Help</a></span><ul class=\"toc-item\"><li><span><a href=\"#Asking-For-Help\" data-toc-modified-id=\"Asking-For-Help-1.8.1\"><span class=\"toc-item-num\">1.8.1&nbsp;&nbsp;</span>Asking For Help</a></span></li></ul></li><li><span><a href=\"#Exercise-1\" data-toc-modified-id=\"Exercise-1-1.9\"><span class=\"toc-item-num\">1.9&nbsp;&nbsp;</span>Exercise 1</a></span></li></ul></li></ul></div>"
   ]
  },
  {
   "cell_type": "markdown",
   "id": "407e3bfd",
   "metadata": {},
   "source": [
    "# NumPy: Creating and Manipulating Numerical Data"
   ]
  },
  {
   "cell_type": "markdown",
   "id": "0e0a985c",
   "metadata": {},
   "source": [
    "**NumPy**: is the core Python tool for performing numerical computations."
   ]
  },
  {
   "cell_type": "markdown",
   "id": "769a2100",
   "metadata": {},
   "source": [
    "NumPy provides:  \n",
    "\n",
    "    - array oriented computing  \n",
    "\n",
    "    - multi-dimensional arrays  \n",
    "    :\n",
    "    - designed for scientific computation: useful linear algebra, Fourier transform, and random number capabilities\n",
    "    \n",
    "    - closer to hardware (efficiency)  "
   ]
  },
  {
   "cell_type": "markdown",
   "id": "f9292f54",
   "metadata": {},
   "source": [
    "## Numpy Importing Conventions\n",
    "The recommended convention to import numpy is:"
   ]
  },
  {
   "cell_type": "code",
   "execution_count": 1,
   "id": "77f9f174",
   "metadata": {},
   "outputs": [],
   "source": [
    "# Import Numpy\n",
    "import numpy as np"
   ]
  },
  {
   "cell_type": "code",
   "execution_count": 2,
   "id": "88fb8920",
   "metadata": {},
   "outputs": [],
   "source": [
    "# this is just to make the output look better\n",
    "np.set_printoptions(precision=3 , suppress= True) "
   ]
  },
  {
   "cell_type": "markdown",
   "id": "e2c8c139",
   "metadata": {},
   "source": [
    "## Creating Arrays"
   ]
  },
  {
   "cell_type": "markdown",
   "id": "fc8ee345",
   "metadata": {},
   "source": [
    "### Manual construction of arrays"
   ]
  },
  {
   "cell_type": "code",
   "execution_count": 3,
   "id": "d297f015",
   "metadata": {},
   "outputs": [],
   "source": [
    "a = np.array([0, 1, 2, 3])"
   ]
  },
  {
   "cell_type": "code",
   "execution_count": 4,
   "id": "adc8dc26",
   "metadata": {},
   "outputs": [
    {
     "data": {
      "text/plain": [
       "array([0, 1, 2, 3])"
      ]
     },
     "execution_count": 4,
     "metadata": {},
     "output_type": "execute_result"
    }
   ],
   "source": [
    "a"
   ]
  },
  {
   "cell_type": "code",
   "execution_count": 5,
   "id": "d1df7fa3",
   "metadata": {},
   "outputs": [
    {
     "data": {
      "text/plain": [
       "(4,)"
      ]
     },
     "execution_count": 5,
     "metadata": {},
     "output_type": "execute_result"
    }
   ],
   "source": [
    "# returns the shape of the array\n",
    "a.shape"
   ]
  },
  {
   "cell_type": "code",
   "execution_count": 6,
   "id": "47e09fef",
   "metadata": {},
   "outputs": [
    {
     "data": {
      "text/plain": [
       "1"
      ]
     },
     "execution_count": 6,
     "metadata": {},
     "output_type": "execute_result"
    }
   ],
   "source": [
    "# returns no. of dimension\n",
    "a.ndim"
   ]
  },
  {
   "cell_type": "code",
   "execution_count": 7,
   "id": "b43d0980",
   "metadata": {},
   "outputs": [
    {
     "data": {
      "text/plain": [
       "numpy.ndarray"
      ]
     },
     "execution_count": 7,
     "metadata": {},
     "output_type": "execute_result"
    }
   ],
   "source": [
    "# returns the data type\n",
    "type(a)"
   ]
  },
  {
   "cell_type": "markdown",
   "id": "18eb4d94",
   "metadata": {},
   "source": [
    "### 2-Dimensional Arrays"
   ]
  },
  {
   "cell_type": "code",
   "execution_count": 8,
   "id": "3d3a574b",
   "metadata": {},
   "outputs": [],
   "source": [
    "# 2 x 3 array\n",
    "b = np.array([[0, 1, 2], [3, 4, 5]])    "
   ]
  },
  {
   "cell_type": "code",
   "execution_count": 9,
   "id": "2eb15a35",
   "metadata": {},
   "outputs": [
    {
     "data": {
      "text/plain": [
       "array([[0, 1, 2],\n",
       "       [3, 4, 5]])"
      ]
     },
     "execution_count": 9,
     "metadata": {},
     "output_type": "execute_result"
    }
   ],
   "source": [
    "b"
   ]
  },
  {
   "cell_type": "code",
   "execution_count": 10,
   "id": "6352ae6a",
   "metadata": {},
   "outputs": [
    {
     "data": {
      "text/plain": [
       "2"
      ]
     },
     "execution_count": 10,
     "metadata": {},
     "output_type": "execute_result"
    }
   ],
   "source": [
    "# returns no. of dimension\n",
    "b.ndim"
   ]
  },
  {
   "cell_type": "code",
   "execution_count": 11,
   "id": "19ecfffc",
   "metadata": {},
   "outputs": [
    {
     "data": {
      "text/plain": [
       "(2, 3)"
      ]
     },
     "execution_count": 11,
     "metadata": {},
     "output_type": "execute_result"
    }
   ],
   "source": [
    "# returns the shape of the array\n",
    "b.shape"
   ]
  },
  {
   "cell_type": "code",
   "execution_count": 12,
   "id": "3196cc47",
   "metadata": {},
   "outputs": [
    {
     "data": {
      "text/plain": [
       "2"
      ]
     },
     "execution_count": 12,
     "metadata": {},
     "output_type": "execute_result"
    }
   ],
   "source": [
    "# returns the size of the first dimension\n",
    "len(b)     "
   ]
  },
  {
   "cell_type": "markdown",
   "id": "557e5b02",
   "metadata": {},
   "source": [
    "### 3-Dimensional Arrays"
   ]
  },
  {
   "cell_type": "code",
   "execution_count": 13,
   "id": "605cac53",
   "metadata": {},
   "outputs": [],
   "source": [
    "c = np.array([[[1,1,2], [2,3,3]], [[1,1,1], [1,1,1]], [[1,1,1], [1,1,1]]])"
   ]
  },
  {
   "cell_type": "code",
   "execution_count": 14,
   "id": "11182ac1",
   "metadata": {},
   "outputs": [
    {
     "data": {
      "text/plain": [
       "array([[[1, 1, 2],\n",
       "        [2, 3, 3]],\n",
       "\n",
       "       [[1, 1, 1],\n",
       "        [1, 1, 1]],\n",
       "\n",
       "       [[1, 1, 1],\n",
       "        [1, 1, 1]]])"
      ]
     },
     "execution_count": 14,
     "metadata": {},
     "output_type": "execute_result"
    }
   ],
   "source": [
    "c"
   ]
  },
  {
   "cell_type": "code",
   "execution_count": 15,
   "id": "9e64fffd",
   "metadata": {},
   "outputs": [
    {
     "data": {
      "text/plain": [
       "3"
      ]
     },
     "execution_count": 15,
     "metadata": {},
     "output_type": "execute_result"
    }
   ],
   "source": [
    "# returns no. of dimension\n",
    "c.ndim"
   ]
  },
  {
   "cell_type": "code",
   "execution_count": 16,
   "id": "7ee04176",
   "metadata": {},
   "outputs": [
    {
     "data": {
      "text/plain": [
       "(3, 2, 3)"
      ]
     },
     "execution_count": 16,
     "metadata": {},
     "output_type": "execute_result"
    }
   ],
   "source": [
    "# returns the shape of the array\n",
    "c.shape"
   ]
  },
  {
   "cell_type": "code",
   "execution_count": 17,
   "id": "43d0796f",
   "metadata": {},
   "outputs": [
    {
     "data": {
      "text/plain": [
       "3"
      ]
     },
     "execution_count": 17,
     "metadata": {},
     "output_type": "execute_result"
    }
   ],
   "source": [
    "# returns the size of the first dimension\n",
    "len(c)    "
   ]
  },
  {
   "cell_type": "markdown",
   "id": "23de3c65",
   "metadata": {},
   "source": [
    "## Functions for creating arrays"
   ]
  },
  {
   "cell_type": "markdown",
   "id": "e87ec2ee",
   "metadata": {},
   "source": [
    "### Evenly spaced arrays:"
   ]
  },
  {
   "cell_type": "code",
   "execution_count": 18,
   "id": "7e82e739",
   "metadata": {},
   "outputs": [
    {
     "data": {
      "text/plain": [
       "array([0, 1, 2, 3, 4, 5, 6, 7, 8, 9])"
      ]
     },
     "execution_count": 18,
     "metadata": {},
     "output_type": "execute_result"
    }
   ],
   "source": [
    "a = np.arange(10) # 0 .. n-1  (!)\n",
    "a"
   ]
  },
  {
   "cell_type": "code",
   "execution_count": 19,
   "id": "526d246c",
   "metadata": {},
   "outputs": [
    {
     "data": {
      "text/plain": [
       "array([1, 3, 5, 7])"
      ]
     },
     "execution_count": 19,
     "metadata": {},
     "output_type": "execute_result"
    }
   ],
   "source": [
    "b = np.arange(1, 9, 2) # start, end (exclusive), step\n",
    "b"
   ]
  },
  {
   "cell_type": "code",
   "execution_count": 20,
   "id": "07d444a2",
   "metadata": {},
   "outputs": [
    {
     "data": {
      "text/plain": [
       "array([0. , 0.2, 0.4, 0.6, 0.8, 1. ])"
      ]
     },
     "execution_count": 20,
     "metadata": {},
     "output_type": "execute_result"
    }
   ],
   "source": [
    "c = np.linspace(0, 1, 6)   # start, end, num-points\n",
    "c"
   ]
  },
  {
   "cell_type": "code",
   "execution_count": 21,
   "id": "25cfff6e",
   "metadata": {},
   "outputs": [
    {
     "data": {
      "text/plain": [
       "array([0.   , 0.167, 0.333, 0.5  , 0.667, 0.833])"
      ]
     },
     "execution_count": 21,
     "metadata": {},
     "output_type": "execute_result"
    }
   ],
   "source": [
    "d = np.linspace(0, 1, 6, endpoint=False)\n",
    "d"
   ]
  },
  {
   "cell_type": "markdown",
   "id": "3eca3a9e",
   "metadata": {},
   "source": [
    "### Common Arrays"
   ]
  },
  {
   "cell_type": "markdown",
   "id": "6134b6af",
   "metadata": {},
   "source": [
    "### Ones"
   ]
  },
  {
   "cell_type": "code",
   "execution_count": 22,
   "id": "3cc54ce0",
   "metadata": {},
   "outputs": [
    {
     "data": {
      "text/plain": [
       "array([[1., 1., 1.],\n",
       "       [1., 1., 1.],\n",
       "       [1., 1., 1.]])"
      ]
     },
     "execution_count": 22,
     "metadata": {},
     "output_type": "execute_result"
    }
   ],
   "source": [
    "a = np.ones((3, 3)) \n",
    "a"
   ]
  },
  {
   "cell_type": "markdown",
   "id": "2db20fcf",
   "metadata": {},
   "source": [
    "### Zeros"
   ]
  },
  {
   "cell_type": "code",
   "execution_count": 23,
   "id": "a6162a6d",
   "metadata": {},
   "outputs": [
    {
     "data": {
      "text/plain": [
       "array([[0., 0.],\n",
       "       [0., 0.]])"
      ]
     },
     "execution_count": 23,
     "metadata": {},
     "output_type": "execute_result"
    }
   ],
   "source": [
    "b = np.zeros((2, 2))\n",
    "b"
   ]
  },
  {
   "cell_type": "markdown",
   "id": "dbd2050e",
   "metadata": {},
   "source": [
    "### Diagonal Matrix"
   ]
  },
  {
   "cell_type": "code",
   "execution_count": 24,
   "id": "dcf3974a",
   "metadata": {},
   "outputs": [
    {
     "data": {
      "text/plain": [
       "array([[1., 0., 0.],\n",
       "       [0., 1., 0.],\n",
       "       [0., 0., 1.]])"
      ]
     },
     "execution_count": 24,
     "metadata": {},
     "output_type": "execute_result"
    }
   ],
   "source": [
    "c = np.eye(3)\n",
    "c"
   ]
  },
  {
   "cell_type": "code",
   "execution_count": 25,
   "id": "931b9610",
   "metadata": {},
   "outputs": [
    {
     "data": {
      "text/plain": [
       "array([[1, 0, 0, 0],\n",
       "       [0, 2, 0, 0],\n",
       "       [0, 0, 3, 0],\n",
       "       [0, 0, 0, 4]])"
      ]
     },
     "execution_count": 25,
     "metadata": {},
     "output_type": "execute_result"
    }
   ],
   "source": [
    "d = np.diag(np.array([1, 2, 3, 4]))\n",
    "d"
   ]
  },
  {
   "cell_type": "code",
   "execution_count": 26,
   "id": "4905fd8d",
   "metadata": {},
   "outputs": [
    {
     "data": {
      "text/plain": [
       "array([1, 2, 3, 4])"
      ]
     },
     "execution_count": 26,
     "metadata": {},
     "output_type": "execute_result"
    }
   ],
   "source": [
    "e = np.diag(d)\n",
    "e"
   ]
  },
  {
   "cell_type": "markdown",
   "id": "afd0bb2c",
   "metadata": {},
   "source": [
    "## Random numbers"
   ]
  },
  {
   "cell_type": "markdown",
   "id": "54b1ba92",
   "metadata": {},
   "source": [
    "### Uniform"
   ]
  },
  {
   "cell_type": "code",
   "execution_count": 27,
   "id": "a7beaba3",
   "metadata": {},
   "outputs": [
    {
     "data": {
      "text/plain": [
       "array([0.551, 0.927, 0.037, 0.881])"
      ]
     },
     "execution_count": 27,
     "metadata": {},
     "output_type": "execute_result"
    }
   ],
   "source": [
    "a = np.random.rand(4)       # uniform in [0, 1]\n",
    "a  "
   ]
  },
  {
   "cell_type": "markdown",
   "id": "813b73c0",
   "metadata": {},
   "source": [
    "### Gaussian"
   ]
  },
  {
   "cell_type": "code",
   "execution_count": 28,
   "id": "25f6de11",
   "metadata": {},
   "outputs": [
    {
     "data": {
      "text/plain": [
       "array([ 0.226, -0.42 ,  0.989,  0.03 ])"
      ]
     },
     "execution_count": 28,
     "metadata": {},
     "output_type": "execute_result"
    }
   ],
   "source": [
    "b = np.random.randn(4)      \n",
    "b  "
   ]
  },
  {
   "cell_type": "markdown",
   "id": "0d2641d9",
   "metadata": {},
   "source": [
    "## Basic Data Types"
   ]
  },
  {
   "cell_type": "markdown",
   "id": "fdbc92d2",
   "metadata": {},
   "source": [
    "- NumPy auto-detects the data-type from the input.  \n",
    "- In some instances, array elements are displayed with a trailing dot (e.g. 2. vs 2)"
   ]
  },
  {
   "cell_type": "markdown",
   "id": "df7cb55f",
   "metadata": {},
   "source": [
    "### Intgers"
   ]
  },
  {
   "cell_type": "code",
   "execution_count": 29,
   "id": "7f85a93d",
   "metadata": {},
   "outputs": [
    {
     "data": {
      "text/plain": [
       "dtype('int64')"
      ]
     },
     "execution_count": 29,
     "metadata": {},
     "output_type": "execute_result"
    }
   ],
   "source": [
    "a = np.array([1, 2, 3])\n",
    "a.dtype"
   ]
  },
  {
   "cell_type": "markdown",
   "id": "bb8acb2c",
   "metadata": {},
   "source": [
    "### Floats"
   ]
  },
  {
   "cell_type": "code",
   "execution_count": 30,
   "id": "3f09bf6d",
   "metadata": {},
   "outputs": [
    {
     "data": {
      "text/plain": [
       "dtype('float64')"
      ]
     },
     "execution_count": 30,
     "metadata": {},
     "output_type": "execute_result"
    }
   ],
   "source": [
    "b = np.array([1., 2., 3.])\n",
    "b.dtype"
   ]
  },
  {
   "cell_type": "markdown",
   "id": "b8f60b3c",
   "metadata": {},
   "source": [
    "### Explicitly specify the data-type"
   ]
  },
  {
   "cell_type": "code",
   "execution_count": 31,
   "id": "3fa597d0",
   "metadata": {},
   "outputs": [
    {
     "data": {
      "text/plain": [
       "dtype('float64')"
      ]
     },
     "execution_count": 31,
     "metadata": {},
     "output_type": "execute_result"
    }
   ],
   "source": [
    "c = np.array([1, 2, 3], dtype=float)\n",
    "c.dtype"
   ]
  },
  {
   "cell_type": "markdown",
   "id": "d40d0dd3",
   "metadata": {},
   "source": [
    "### Other Data Types"
   ]
  },
  {
   "cell_type": "markdown",
   "id": "bb48d7ab",
   "metadata": {},
   "source": [
    "### Complex Number "
   ]
  },
  {
   "cell_type": "code",
   "execution_count": 32,
   "id": "dc084902",
   "metadata": {},
   "outputs": [
    {
     "data": {
      "text/plain": [
       "dtype('complex128')"
      ]
     },
     "execution_count": 32,
     "metadata": {},
     "output_type": "execute_result"
    }
   ],
   "source": [
    "d = np.array([1+2j, 3+4j, 5+6*1j])\n",
    "d.dtype"
   ]
  },
  {
   "cell_type": "markdown",
   "id": "e2d5d27c",
   "metadata": {},
   "source": [
    "### Boolean Number "
   ]
  },
  {
   "cell_type": "code",
   "execution_count": 33,
   "id": "1726aa6f",
   "metadata": {},
   "outputs": [
    {
     "data": {
      "text/plain": [
       "dtype('bool')"
      ]
     },
     "execution_count": 33,
     "metadata": {},
     "output_type": "execute_result"
    }
   ],
   "source": [
    "e = np.array([True, False, False, True])\n",
    "e.dtype"
   ]
  },
  {
   "cell_type": "markdown",
   "id": "c27e54a7",
   "metadata": {},
   "source": [
    "### String"
   ]
  },
  {
   "cell_type": "code",
   "execution_count": 34,
   "id": "bc456135",
   "metadata": {},
   "outputs": [
    {
     "data": {
      "text/plain": [
       "dtype('<U8')"
      ]
     },
     "execution_count": 34,
     "metadata": {},
     "output_type": "execute_result"
    }
   ],
   "source": [
    "f = np.array(['Bonjour', 'Hello', 'Halloooo'])\n",
    "f.dtype     "
   ]
  },
  {
   "cell_type": "markdown",
   "id": "0d332998",
   "metadata": {},
   "source": [
    "## Indexing and Slicing"
   ]
  },
  {
   "cell_type": "markdown",
   "id": "d61cdacf",
   "metadata": {},
   "source": [
    "Indices begin at 0"
   ]
  },
  {
   "cell_type": "code",
   "execution_count": 35,
   "id": "bbf55386",
   "metadata": {},
   "outputs": [
    {
     "data": {
      "text/plain": [
       "array([0, 1, 2, 3, 4, 5, 6, 7, 8, 9])"
      ]
     },
     "execution_count": 35,
     "metadata": {},
     "output_type": "execute_result"
    }
   ],
   "source": [
    "a = np.arange(10)\n",
    "a"
   ]
  },
  {
   "cell_type": "code",
   "execution_count": 36,
   "id": "11ed0c14",
   "metadata": {},
   "outputs": [
    {
     "data": {
      "text/plain": [
       "0"
      ]
     },
     "execution_count": 36,
     "metadata": {},
     "output_type": "execute_result"
    }
   ],
   "source": [
    "a[0]"
   ]
  },
  {
   "cell_type": "code",
   "execution_count": 37,
   "id": "4b4be068",
   "metadata": {},
   "outputs": [
    {
     "data": {
      "text/plain": [
       "2"
      ]
     },
     "execution_count": 37,
     "metadata": {},
     "output_type": "execute_result"
    }
   ],
   "source": [
    "a[2]"
   ]
  },
  {
   "cell_type": "code",
   "execution_count": 38,
   "id": "251574f8",
   "metadata": {},
   "outputs": [
    {
     "data": {
      "text/plain": [
       "9"
      ]
     },
     "execution_count": 38,
     "metadata": {},
     "output_type": "execute_result"
    }
   ],
   "source": [
    "a[-1]"
   ]
  },
  {
   "cell_type": "markdown",
   "id": "2c093d5a",
   "metadata": {},
   "source": [
    "### Reversing a sequence"
   ]
  },
  {
   "cell_type": "code",
   "execution_count": 39,
   "id": "e042f55c",
   "metadata": {},
   "outputs": [
    {
     "data": {
      "text/plain": [
       "array([9, 8, 7, 6, 5, 4, 3, 2, 1, 0])"
      ]
     },
     "execution_count": 39,
     "metadata": {},
     "output_type": "execute_result"
    }
   ],
   "source": [
    "a[::-1]"
   ]
  },
  {
   "cell_type": "markdown",
   "id": "acd5e0e8",
   "metadata": {},
   "source": [
    "### Indexing Multidimensional Arrays"
   ]
  },
  {
   "cell_type": "markdown",
   "id": "4faa0d00",
   "metadata": {},
   "source": [
    "- In 2D, the first dimension corresponds to rows, the second to columns.\n",
    "- a[0] is interpreted by taking all elements in the unspecified dimensions."
   ]
  },
  {
   "cell_type": "code",
   "execution_count": 40,
   "id": "7ec95695",
   "metadata": {},
   "outputs": [
    {
     "data": {
      "text/plain": [
       "array([[0, 0, 0],\n",
       "       [0, 1, 0],\n",
       "       [0, 0, 2]])"
      ]
     },
     "execution_count": 40,
     "metadata": {},
     "output_type": "execute_result"
    }
   ],
   "source": [
    "a = np.diag(np.arange(3))\n",
    "a"
   ]
  },
  {
   "cell_type": "code",
   "execution_count": 41,
   "id": "55300852",
   "metadata": {},
   "outputs": [
    {
     "data": {
      "text/plain": [
       "1"
      ]
     },
     "execution_count": 41,
     "metadata": {},
     "output_type": "execute_result"
    }
   ],
   "source": [
    "a[1, 1]"
   ]
  },
  {
   "cell_type": "code",
   "execution_count": 42,
   "id": "d9c45984",
   "metadata": {},
   "outputs": [],
   "source": [
    "a[2, 1] = 10 # third line, second column"
   ]
  },
  {
   "cell_type": "code",
   "execution_count": 43,
   "id": "a3bf2352",
   "metadata": {},
   "outputs": [
    {
     "data": {
      "text/plain": [
       "array([[ 0,  0,  0],\n",
       "       [ 0,  1,  0],\n",
       "       [ 0, 10,  2]])"
      ]
     },
     "execution_count": 43,
     "metadata": {},
     "output_type": "execute_result"
    }
   ],
   "source": [
    "a"
   ]
  },
  {
   "cell_type": "markdown",
   "id": "f486dea2",
   "metadata": {},
   "source": [
    "### Indexing by Row"
   ]
  },
  {
   "cell_type": "code",
   "execution_count": 44,
   "id": "81ad256e",
   "metadata": {},
   "outputs": [
    {
     "data": {
      "text/plain": [
       "array([0, 0, 0])"
      ]
     },
     "execution_count": 44,
     "metadata": {},
     "output_type": "execute_result"
    }
   ],
   "source": [
    "a[0]"
   ]
  },
  {
   "cell_type": "code",
   "execution_count": 45,
   "id": "00eeef21",
   "metadata": {},
   "outputs": [
    {
     "data": {
      "text/plain": [
       "array([0, 1, 0])"
      ]
     },
     "execution_count": 45,
     "metadata": {},
     "output_type": "execute_result"
    }
   ],
   "source": [
    "a[1]"
   ]
  },
  {
   "cell_type": "markdown",
   "id": "d079fc67",
   "metadata": {},
   "source": [
    "### Indexing by Column"
   ]
  },
  {
   "cell_type": "code",
   "execution_count": 46,
   "id": "4e984b71",
   "metadata": {},
   "outputs": [
    {
     "data": {
      "text/plain": [
       "array([0, 0, 0])"
      ]
     },
     "execution_count": 46,
     "metadata": {},
     "output_type": "execute_result"
    }
   ],
   "source": [
    "a[:,0]"
   ]
  },
  {
   "cell_type": "markdown",
   "id": "d239a91d",
   "metadata": {},
   "source": [
    "### Slicing"
   ]
  },
  {
   "cell_type": "code",
   "execution_count": 47,
   "id": "d6d31e51",
   "metadata": {},
   "outputs": [
    {
     "data": {
      "text/plain": [
       "array([0, 1, 2, 3, 4, 5, 6, 7, 8, 9])"
      ]
     },
     "execution_count": 47,
     "metadata": {},
     "output_type": "execute_result"
    }
   ],
   "source": [
    "a = np.arange(10)\n",
    "a "
   ]
  },
  {
   "cell_type": "code",
   "execution_count": 48,
   "id": "3f392819",
   "metadata": {},
   "outputs": [
    {
     "data": {
      "text/plain": [
       "array([0, 1, 2, 3])"
      ]
     },
     "execution_count": 48,
     "metadata": {},
     "output_type": "execute_result"
    }
   ],
   "source": [
    "a[:4]"
   ]
  },
  {
   "cell_type": "code",
   "execution_count": 49,
   "id": "a8ad2dd5",
   "metadata": {},
   "outputs": [
    {
     "data": {
      "text/plain": [
       "array([1, 2])"
      ]
     },
     "execution_count": 49,
     "metadata": {},
     "output_type": "execute_result"
    }
   ],
   "source": [
    "a[1:3]"
   ]
  },
  {
   "cell_type": "code",
   "execution_count": 50,
   "id": "eb74e26d",
   "metadata": {},
   "outputs": [
    {
     "data": {
      "text/plain": [
       "array([0, 2, 4, 6, 8])"
      ]
     },
     "execution_count": 50,
     "metadata": {},
     "output_type": "execute_result"
    }
   ],
   "source": [
    "a[::2]"
   ]
  },
  {
   "cell_type": "code",
   "execution_count": 51,
   "id": "3a25d71b",
   "metadata": {},
   "outputs": [
    {
     "data": {
      "text/plain": [
       "array([3, 4, 5, 6, 7, 8, 9])"
      ]
     },
     "execution_count": 51,
     "metadata": {},
     "output_type": "execute_result"
    }
   ],
   "source": [
    "a[3:]"
   ]
  },
  {
   "cell_type": "markdown",
   "id": "73c7918b",
   "metadata": {},
   "source": [
    "### Combine Assignment and Slicing"
   ]
  },
  {
   "cell_type": "code",
   "execution_count": 52,
   "id": "130d094f",
   "metadata": {},
   "outputs": [
    {
     "data": {
      "text/plain": [
       "array([0, 1, 2, 3, 4, 5, 6, 7, 8, 9])"
      ]
     },
     "execution_count": 52,
     "metadata": {},
     "output_type": "execute_result"
    }
   ],
   "source": [
    "a = np.arange(10)\n",
    "a"
   ]
  },
  {
   "cell_type": "code",
   "execution_count": 53,
   "id": "8d682911",
   "metadata": {},
   "outputs": [
    {
     "data": {
      "text/plain": [
       "array([ 0,  1,  2,  3,  4, 10, 10, 10, 10, 10])"
      ]
     },
     "execution_count": 53,
     "metadata": {},
     "output_type": "execute_result"
    }
   ],
   "source": [
    "a[5:] = 10\n",
    "a"
   ]
  },
  {
   "cell_type": "code",
   "execution_count": 54,
   "id": "9c30ce9d",
   "metadata": {},
   "outputs": [
    {
     "data": {
      "text/plain": [
       "array([0, 1, 2, 3, 4])"
      ]
     },
     "execution_count": 54,
     "metadata": {},
     "output_type": "execute_result"
    }
   ],
   "source": [
    "b = np.arange(5)\n",
    "b"
   ]
  },
  {
   "cell_type": "markdown",
   "id": "7e0ffafe",
   "metadata": {},
   "source": [
    "## Fancy Indexing"
   ]
  },
  {
   "cell_type": "markdown",
   "id": "ffaf7918",
   "metadata": {},
   "source": [
    "NumPy arrays can be indexed with slices, but also with boolean or integer arrays (masks). This method is called fancy indexing."
   ]
  },
  {
   "cell_type": "markdown",
   "id": "5654b47d",
   "metadata": {},
   "source": [
    "### Using Boolean Masks"
   ]
  },
  {
   "cell_type": "code",
   "execution_count": 55,
   "id": "a7305048",
   "metadata": {},
   "outputs": [
    {
     "data": {
      "text/plain": [
       "array([10,  3,  8,  0, 19, 10, 11,  9, 10,  6,  0, 20, 12,  7, 14])"
      ]
     },
     "execution_count": 55,
     "metadata": {},
     "output_type": "execute_result"
    }
   ],
   "source": [
    "np.random.seed(3)\n",
    "a = np.random.randint(0, 21, 15)\n",
    "a"
   ]
  },
  {
   "cell_type": "code",
   "execution_count": 56,
   "id": "826b57fd",
   "metadata": {},
   "outputs": [
    {
     "data": {
      "text/plain": [
       "array([False,  True, False,  True, False, False, False,  True, False,\n",
       "        True,  True, False,  True, False, False])"
      ]
     },
     "execution_count": 56,
     "metadata": {},
     "output_type": "execute_result"
    }
   ],
   "source": [
    "(a % 3 == 0)"
   ]
  },
  {
   "cell_type": "code",
   "execution_count": 57,
   "id": "cf66340b",
   "metadata": {},
   "outputs": [
    {
     "data": {
      "text/plain": [
       "array([False,  True, False,  True, False, False, False,  True, False,\n",
       "        True,  True, False,  True, False, False])"
      ]
     },
     "execution_count": 57,
     "metadata": {},
     "output_type": "execute_result"
    }
   ],
   "source": [
    "mask = (a % 3 == 0)\n",
    "mask"
   ]
  },
  {
   "cell_type": "code",
   "execution_count": 58,
   "id": "74b0d791",
   "metadata": {},
   "outputs": [
    {
     "data": {
      "text/plain": [
       "array([ 3,  0,  9,  6,  0, 12])"
      ]
     },
     "execution_count": 58,
     "metadata": {},
     "output_type": "execute_result"
    }
   ],
   "source": [
    "extract_from_a = a[mask] \n",
    "extract_from_a           "
   ]
  },
  {
   "cell_type": "code",
   "execution_count": 59,
   "id": "b0d24a46",
   "metadata": {},
   "outputs": [
    {
     "data": {
      "text/plain": [
       "array([10, -1,  8, -1, 19, 10, 11, -1, 10, -1, -1, 20, -1,  7, 14])"
      ]
     },
     "execution_count": 59,
     "metadata": {},
     "output_type": "execute_result"
    }
   ],
   "source": [
    "a[a % 3 == 0] = -1\n",
    "a"
   ]
  },
  {
   "cell_type": "markdown",
   "id": "71f3f7c6",
   "metadata": {},
   "source": [
    "### Indexing with an array of integers"
   ]
  },
  {
   "cell_type": "code",
   "execution_count": 60,
   "id": "4c0ec0bb",
   "metadata": {},
   "outputs": [
    {
     "data": {
      "text/plain": [
       "array([ 0, 10, 20, 30, 40, 50, 60, 70, 80, 90])"
      ]
     },
     "execution_count": 60,
     "metadata": {},
     "output_type": "execute_result"
    }
   ],
   "source": [
    "a = np.arange(0, 100, 10)\n",
    "a"
   ]
  },
  {
   "cell_type": "markdown",
   "id": "472c9cfa",
   "metadata": {},
   "source": [
    "Indexing can be done with an array of integers, where the same index is repeated several time:"
   ]
  },
  {
   "cell_type": "code",
   "execution_count": 61,
   "id": "db1251f3",
   "metadata": {},
   "outputs": [
    {
     "data": {
      "text/plain": [
       "array([20, 30, 20, 40, 20])"
      ]
     },
     "execution_count": 61,
     "metadata": {},
     "output_type": "execute_result"
    }
   ],
   "source": [
    "a[[2, 3, 2, 4, 2]] "
   ]
  },
  {
   "cell_type": "code",
   "execution_count": 62,
   "id": "781c64dd",
   "metadata": {},
   "outputs": [
    {
     "data": {
      "text/plain": [
       "array([   0,   10,   20,   30,   40,   50,   60, -100,   80, -100])"
      ]
     },
     "execution_count": 62,
     "metadata": {},
     "output_type": "execute_result"
    }
   ],
   "source": [
    "a[[9, 7]] = -100\n",
    "a"
   ]
  },
  {
   "cell_type": "markdown",
   "id": "66ed02ff",
   "metadata": {},
   "source": [
    "## Numpy Help"
   ]
  },
  {
   "cell_type": "markdown",
   "id": "607f4323",
   "metadata": {},
   "source": [
    "On the web: https://numpy.org/doc/"
   ]
  },
  {
   "cell_type": "markdown",
   "id": "61a3e63a",
   "metadata": {},
   "source": [
    "### Asking For Help"
   ]
  },
  {
   "cell_type": "code",
   "execution_count": 63,
   "id": "6502385c",
   "metadata": {},
   "outputs": [],
   "source": [
    "np.add?"
   ]
  },
  {
   "cell_type": "code",
   "execution_count": 64,
   "id": "6bf3e92f",
   "metadata": {},
   "outputs": [],
   "source": [
    "np.array?"
   ]
  },
  {
   "cell_type": "code",
   "execution_count": 65,
   "id": "fb64f5cc",
   "metadata": {},
   "outputs": [],
   "source": [
    "np.arr*?"
   ]
  },
  {
   "cell_type": "code",
   "execution_count": 66,
   "id": "52ddf18f",
   "metadata": {},
   "outputs": [],
   "source": [
    "np.con*?"
   ]
  },
  {
   "cell_type": "markdown",
   "id": "1fe7980c",
   "metadata": {},
   "source": [
    "## Exercise 1\n",
    "\n",
    "1) Create a simple one, two, and three  dimensional array.  \n",
    "2) Use the functions len(), numpy.shape() on these arrays.  \n",
    "3) Experiment with arange, linspace, ones, zeros, eye and diag.   \n",
    "4) Create different kinds of arrays with random numbers.  \n",
    "5 Look at the function `np.empty`. What does it do? When might this be useful?  "
   ]
  },
  {
   "cell_type": "code",
   "execution_count": null,
   "id": "0dcb3492",
   "metadata": {},
   "outputs": [],
   "source": []
  }
 ],
 "metadata": {
  "hide_input": false,
  "kernelspec": {
   "display_name": "Python 3 (ipykernel)",
   "language": "python",
   "name": "python3"
  },
  "language_info": {
   "codemirror_mode": {
    "name": "ipython",
    "version": 3
   },
   "file_extension": ".py",
   "mimetype": "text/x-python",
   "name": "python",
   "nbconvert_exporter": "python",
   "pygments_lexer": "ipython3",
   "version": "3.10.6"
  },
  "latex_envs": {
   "LaTeX_envs_menu_present": true,
   "autoclose": false,
   "autocomplete": true,
   "bibliofile": "biblio.bib",
   "cite_by": "apalike",
   "current_citInitial": 1,
   "eqLabelWithNumbers": true,
   "eqNumInitial": 1,
   "hotkeys": {
    "equation": "Ctrl-E",
    "itemize": "Ctrl-I"
   },
   "labels_anchors": false,
   "latex_user_defs": false,
   "report_style_numbering": false,
   "user_envs_cfg": false
  },
  "toc": {
   "base_numbering": 1,
   "nav_menu": {},
   "number_sections": true,
   "sideBar": true,
   "skip_h1_title": false,
   "title_cell": "Table of Contents",
   "title_sidebar": "Contents",
   "toc_cell": true,
   "toc_position": {
    "height": "calc(100% - 180px)",
    "left": "10px",
    "top": "150px",
    "width": "360px"
   },
   "toc_section_display": true,
   "toc_window_display": true
  },
  "varInspector": {
   "cols": {
    "lenName": 16,
    "lenType": 16,
    "lenVar": 40
   },
   "kernels_config": {
    "python": {
     "delete_cmd_postfix": "",
     "delete_cmd_prefix": "del ",
     "library": "var_list.py",
     "varRefreshCmd": "print(var_dic_list())"
    },
    "r": {
     "delete_cmd_postfix": ") ",
     "delete_cmd_prefix": "rm(",
     "library": "var_list.r",
     "varRefreshCmd": "cat(var_dic_list()) "
    }
   },
   "types_to_exclude": [
    "module",
    "function",
    "builtin_function_or_method",
    "instance",
    "_Feature"
   ],
   "window_display": false
  }
 },
 "nbformat": 4,
 "nbformat_minor": 5
}
